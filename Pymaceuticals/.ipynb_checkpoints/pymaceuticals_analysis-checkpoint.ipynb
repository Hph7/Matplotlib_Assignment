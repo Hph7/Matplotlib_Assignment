{
 "cells": [
  {
   "cell_type": "markdown",
   "metadata": {},
   "source": [
    "## Observations and Insights"
   ]
  },
  {
   "cell_type": "markdown",
   "metadata": {},
   "source": [
    "1. The mean and median final tumor volumes are almost similar for Capomulin and Ramicane out of all the drugs.\n",
    "2. The final tumor volumes for the four promising drug regimens were within the interquartile range except for Infubinol. Infubinol has one outlier.\n",
    "3. From the line plot for observing the trend of tumor volume across the timepoints for Capomulin, it is seen that with time tumor volume shows a decrease indicating that the drug is effective in treating the squamous cell carcinoma.\n",
    "4. Upon visualising the data from scatter plot, there seems to be a trend that shows a proportional increase in the tumor volume with increase in mouse weight. The linear regression model for mouse weight and average tumor volume for the Capomulin seems to have a good fit with a r-square value of 0.84.\n"
   ]
  },
  {
   "cell_type": "markdown",
   "metadata": {},
   "source": [
    "## Dependencies and starter code"
   ]
  },
  {
   "cell_type": "code",
   "execution_count": 1,
   "metadata": {},
   "outputs": [
    {
     "data": {
      "text/html": [
       "<div>\n",
       "<style scoped>\n",
       "    .dataframe tbody tr th:only-of-type {\n",
       "        vertical-align: middle;\n",
       "    }\n",
       "\n",
       "    .dataframe tbody tr th {\n",
       "        vertical-align: top;\n",
       "    }\n",
       "\n",
       "    .dataframe thead th {\n",
       "        text-align: right;\n",
       "    }\n",
       "</style>\n",
       "<table border=\"1\" class=\"dataframe\">\n",
       "  <thead>\n",
       "    <tr style=\"text-align: right;\">\n",
       "      <th></th>\n",
       "      <th>Mouse ID</th>\n",
       "      <th>Drug Regimen</th>\n",
       "      <th>Sex</th>\n",
       "      <th>Age_months</th>\n",
       "      <th>Weight (g)</th>\n",
       "      <th>Timepoint</th>\n",
       "      <th>Tumor Volume (mm3)</th>\n",
       "      <th>Metastatic Sites</th>\n",
       "    </tr>\n",
       "  </thead>\n",
       "  <tbody>\n",
       "    <tr>\n",
       "      <td>0</td>\n",
       "      <td>k403</td>\n",
       "      <td>Ramicane</td>\n",
       "      <td>Male</td>\n",
       "      <td>21</td>\n",
       "      <td>16</td>\n",
       "      <td>0</td>\n",
       "      <td>45.000000</td>\n",
       "      <td>0</td>\n",
       "    </tr>\n",
       "    <tr>\n",
       "      <td>1</td>\n",
       "      <td>k403</td>\n",
       "      <td>Ramicane</td>\n",
       "      <td>Male</td>\n",
       "      <td>21</td>\n",
       "      <td>16</td>\n",
       "      <td>5</td>\n",
       "      <td>38.825898</td>\n",
       "      <td>0</td>\n",
       "    </tr>\n",
       "    <tr>\n",
       "      <td>2</td>\n",
       "      <td>k403</td>\n",
       "      <td>Ramicane</td>\n",
       "      <td>Male</td>\n",
       "      <td>21</td>\n",
       "      <td>16</td>\n",
       "      <td>10</td>\n",
       "      <td>35.014271</td>\n",
       "      <td>1</td>\n",
       "    </tr>\n",
       "    <tr>\n",
       "      <td>3</td>\n",
       "      <td>k403</td>\n",
       "      <td>Ramicane</td>\n",
       "      <td>Male</td>\n",
       "      <td>21</td>\n",
       "      <td>16</td>\n",
       "      <td>15</td>\n",
       "      <td>34.223992</td>\n",
       "      <td>1</td>\n",
       "    </tr>\n",
       "    <tr>\n",
       "      <td>4</td>\n",
       "      <td>k403</td>\n",
       "      <td>Ramicane</td>\n",
       "      <td>Male</td>\n",
       "      <td>21</td>\n",
       "      <td>16</td>\n",
       "      <td>20</td>\n",
       "      <td>32.997729</td>\n",
       "      <td>1</td>\n",
       "    </tr>\n",
       "  </tbody>\n",
       "</table>\n",
       "</div>"
      ],
      "text/plain": [
       "  Mouse ID Drug Regimen   Sex  Age_months  Weight (g)  Timepoint  \\\n",
       "0     k403     Ramicane  Male          21          16          0   \n",
       "1     k403     Ramicane  Male          21          16          5   \n",
       "2     k403     Ramicane  Male          21          16         10   \n",
       "3     k403     Ramicane  Male          21          16         15   \n",
       "4     k403     Ramicane  Male          21          16         20   \n",
       "\n",
       "   Tumor Volume (mm3)  Metastatic Sites  \n",
       "0           45.000000                 0  \n",
       "1           38.825898                 0  \n",
       "2           35.014271                 1  \n",
       "3           34.223992                 1  \n",
       "4           32.997729                 1  "
      ]
     },
     "execution_count": 1,
     "metadata": {},
     "output_type": "execute_result"
    }
   ],
   "source": [
    "# Dependencies and Setup\n",
    "import matplotlib.pyplot as plt\n",
    "import pandas as pd\n",
    "import scipy.stats as st\n",
    "import numpy as np\n",
    "\n",
    "# Study data files\n",
    "mouse_metadata = \"data/Mouse_metadata.csv\"\n",
    "study_results = \"data/Study_results.csv\"\n",
    "\n",
    "# Read the mouse data and the study results\n",
    "mouse_metadata = pd.read_csv(mouse_metadata)\n",
    "study_results = pd.read_csv(study_results)\n",
    "\n",
    "# Combine the data into a single dataset\n",
    "data = pd.merge(mouse_metadata, study_results, on = 'Mouse ID', how = 'outer')\n",
    "data.head()"
   ]
  },
  {
   "cell_type": "markdown",
   "metadata": {},
   "source": [
    "## Summary statistics"
   ]
  },
  {
   "cell_type": "code",
   "execution_count": 2,
   "metadata": {},
   "outputs": [
    {
     "data": {
      "text/html": [
       "<div>\n",
       "<style scoped>\n",
       "    .dataframe tbody tr th:only-of-type {\n",
       "        vertical-align: middle;\n",
       "    }\n",
       "\n",
       "    .dataframe tbody tr th {\n",
       "        vertical-align: top;\n",
       "    }\n",
       "\n",
       "    .dataframe thead th {\n",
       "        text-align: right;\n",
       "    }\n",
       "</style>\n",
       "<table border=\"1\" class=\"dataframe\">\n",
       "  <thead>\n",
       "    <tr style=\"text-align: right;\">\n",
       "      <th></th>\n",
       "      <th>mean</th>\n",
       "      <th>median</th>\n",
       "      <th>var</th>\n",
       "      <th>std</th>\n",
       "      <th>sem</th>\n",
       "    </tr>\n",
       "    <tr>\n",
       "      <th>Drug Regimen</th>\n",
       "      <th></th>\n",
       "      <th></th>\n",
       "      <th></th>\n",
       "      <th></th>\n",
       "      <th></th>\n",
       "    </tr>\n",
       "  </thead>\n",
       "  <tbody>\n",
       "    <tr>\n",
       "      <td>Capomulin</td>\n",
       "      <td>40.675741</td>\n",
       "      <td>41.557809</td>\n",
       "      <td>24.947764</td>\n",
       "      <td>4.994774</td>\n",
       "      <td>0.329346</td>\n",
       "    </tr>\n",
       "    <tr>\n",
       "      <td>Ceftamin</td>\n",
       "      <td>52.591172</td>\n",
       "      <td>51.776157</td>\n",
       "      <td>39.290177</td>\n",
       "      <td>6.268188</td>\n",
       "      <td>0.469821</td>\n",
       "    </tr>\n",
       "    <tr>\n",
       "      <td>Infubinol</td>\n",
       "      <td>52.884795</td>\n",
       "      <td>51.820584</td>\n",
       "      <td>43.128684</td>\n",
       "      <td>6.567243</td>\n",
       "      <td>0.492236</td>\n",
       "    </tr>\n",
       "    <tr>\n",
       "      <td>Ketapril</td>\n",
       "      <td>55.235638</td>\n",
       "      <td>53.698743</td>\n",
       "      <td>68.553577</td>\n",
       "      <td>8.279709</td>\n",
       "      <td>0.603860</td>\n",
       "    </tr>\n",
       "    <tr>\n",
       "      <td>Naftisol</td>\n",
       "      <td>54.331565</td>\n",
       "      <td>52.509285</td>\n",
       "      <td>66.173479</td>\n",
       "      <td>8.134708</td>\n",
       "      <td>0.596466</td>\n",
       "    </tr>\n",
       "    <tr>\n",
       "      <td>Placebo</td>\n",
       "      <td>54.033581</td>\n",
       "      <td>52.288934</td>\n",
       "      <td>61.168083</td>\n",
       "      <td>7.821003</td>\n",
       "      <td>0.581331</td>\n",
       "    </tr>\n",
       "    <tr>\n",
       "      <td>Propriva</td>\n",
       "      <td>52.322552</td>\n",
       "      <td>50.854632</td>\n",
       "      <td>42.351070</td>\n",
       "      <td>6.507770</td>\n",
       "      <td>0.512884</td>\n",
       "    </tr>\n",
       "    <tr>\n",
       "      <td>Ramicane</td>\n",
       "      <td>40.216745</td>\n",
       "      <td>40.673236</td>\n",
       "      <td>23.486704</td>\n",
       "      <td>4.846308</td>\n",
       "      <td>0.320955</td>\n",
       "    </tr>\n",
       "    <tr>\n",
       "      <td>Stelasyn</td>\n",
       "      <td>54.233149</td>\n",
       "      <td>52.431737</td>\n",
       "      <td>59.450562</td>\n",
       "      <td>7.710419</td>\n",
       "      <td>0.573111</td>\n",
       "    </tr>\n",
       "    <tr>\n",
       "      <td>Zoniferol</td>\n",
       "      <td>53.236507</td>\n",
       "      <td>51.818479</td>\n",
       "      <td>48.533355</td>\n",
       "      <td>6.966589</td>\n",
       "      <td>0.516398</td>\n",
       "    </tr>\n",
       "  </tbody>\n",
       "</table>\n",
       "</div>"
      ],
      "text/plain": [
       "                   mean     median        var       std       sem\n",
       "Drug Regimen                                                     \n",
       "Capomulin     40.675741  41.557809  24.947764  4.994774  0.329346\n",
       "Ceftamin      52.591172  51.776157  39.290177  6.268188  0.469821\n",
       "Infubinol     52.884795  51.820584  43.128684  6.567243  0.492236\n",
       "Ketapril      55.235638  53.698743  68.553577  8.279709  0.603860\n",
       "Naftisol      54.331565  52.509285  66.173479  8.134708  0.596466\n",
       "Placebo       54.033581  52.288934  61.168083  7.821003  0.581331\n",
       "Propriva      52.322552  50.854632  42.351070  6.507770  0.512884\n",
       "Ramicane      40.216745  40.673236  23.486704  4.846308  0.320955\n",
       "Stelasyn      54.233149  52.431737  59.450562  7.710419  0.573111\n",
       "Zoniferol     53.236507  51.818479  48.533355  6.966589  0.516398"
      ]
     },
     "execution_count": 2,
     "metadata": {},
     "output_type": "execute_result"
    }
   ],
   "source": [
    "# Generate a summary statistics table of mean, median, variance, standard deviation, and SEM \n",
    "#of the tumor volume for each regimen\n",
    "#mean = data.groupby('Drug Regimen')['Tumor Volume (mm3)'].mean()\n",
    "#median = data.groupby('Drug Regimen')['Tumor Volume (mm3)'].median()\n",
    "#variance = data.groupby('Drug Regimen')['Tumor Volume (mm3)'].var()\n",
    "#stdeviation = data.groupby('Drug Regimen')['Tumor Volume (mm3)'].std()\n",
    "#sem = data.groupby('Drug Regimen')['Tumor Volume (mm3)'].sem()\n",
    "\n",
    "summary_df = data.groupby('Drug Regimen')['Tumor Volume (mm3)'].agg([\"mean\", \"median\", \"var\", \"std\", \"sem\"])\n",
    "summary_df"
   ]
  },
  {
   "cell_type": "markdown",
   "metadata": {},
   "source": [
    "## Bar plots"
   ]
  },
  {
   "cell_type": "code",
   "execution_count": 3,
   "metadata": {},
   "outputs": [
    {
     "data": {
      "image/png": "[encoded data removed]",
      "text/plain": [
       "<Figure size 432x288 with 1 Axes>"
      ]
     },
     "metadata": {
      "needs_background": "light"
     },
     "output_type": "display_data"
    },
    {
     "data": {
      "text/plain": [
       "<Figure size 432x288 with 0 Axes>"
      ]
     },
     "metadata": {},
     "output_type": "display_data"
    }
   ],
   "source": [
    "# Generate a bar plot showing number of data points for each treatment regimen using pandas\n",
    "combine_group_count = data.groupby('Drug Regimen')['Timepoint'].count()\n",
    "\n",
    "combine_group_chart = combine_group_count.plot(kind='bar', title = \"Count of timepoints for each drug regimen\")\n",
    "\n",
    "# Set the xlabel and ylabel using class methods\n",
    "combine_group_chart.set_xlabel(\"Drugs\")\n",
    "combine_group_chart.set_ylabel(\"Count of timepoints\")\n",
    "\n",
    "plt.show()\n",
    "plt.tight_layout()"
   ]
  },
  {
   "cell_type": "code",
   "execution_count": 14,
   "metadata": {},
   "outputs": [
    {
     "data": {
      "image/png": "[encoded data removed]",
      "text/plain": [
       "<Figure size 432x288 with 1 Axes>"
      ]
     },
     "metadata": {
      "needs_background": "light"
     },
     "output_type": "display_data"
    }
   ],
   "source": [
    "# Generate a bar plot showing number of data points for each treatment regimen using pyplot\n",
    "combine_group_count = data.groupby('Drug Regimen')['Timepoint'].count()\n",
    "\n",
    "x_axis = np.arange(len(combine_group_count))\n",
    "plt.bar(x_axis, combine_group_count, color=\"b\", width = 0.5)\n",
    "\n",
    "labels = ['Capomulin','Ceftamin','Infubinol','Ketapril','Naftisol','Placebo','Propriva','Ramicane','Stelasyn','Zoniferol']\n",
    "tick_locations = [value for value in x_axis]\n",
    "plt.xticks(tick_locations, labels ,rotation='vertical')\n",
    "plt.ylim(0, 240)\n",
    "\n",
    "plt.title(\"Count of timepoints for each drug regimen\")\n",
    "plt.xlabel(\"Drug\")\n",
    "plt.ylabel(\"Count of timepoints\")\n",
    "\n",
    "plt.show()\n"
   ]
  },
  {
   "cell_type": "markdown",
   "metadata": {},
   "source": [
    "## Pie plots"
   ]
  },
  {
   "cell_type": "code",
   "execution_count": 5,
   "metadata": {},
   "outputs": [
    {
     "data": {
      "image/png": "[encoded data removed]",
      "text/plain": [
       "<Figure size 432x288 with 1 Axes>"
      ]
     },
     "metadata": {},
     "output_type": "display_data"
    }
   ],
   "source": [
    "# Generate a pie plot showing the distribution of female versus male mice using pandas\n",
    "gender_df = mouse_metadata.groupby('Sex')['Sex'].count()\n",
    "gender_chart = gender_df.plot(kind='pie', title = \"Distribution of Female versus Male mice\", autopct=\"%1.1f%%\",colors = ['lightcoral', 'lightskyblue'])"
   ]
  },
  {
   "cell_type": "code",
   "execution_count": 6,
   "metadata": {},
   "outputs": [
    {
     "data": {
      "image/png": "[encoded data removed]",
      "text/plain": [
       "<Figure size 432x288 with 1 Axes>"
      ]
     },
     "metadata": {},
     "output_type": "display_data"
    }
   ],
   "source": [
    "# Generate a pie plot showing the distribution of female versus male mice using pyplot\n",
    "# Tell matplotlib to create a pie chart based upon the above data\n",
    "labels = ['Female','Male']\n",
    "#explode = [0,0.05]\n",
    "colors = ['lightcoral', 'lightskyblue']\n",
    "plt.pie(gender_df,labels=labels, autopct=\"%1.1f%%\",colors=colors)\n",
    "plt.title(\"Distribution of Female versus Male mice\")\n",
    "# Create axes which are equal so we have a perfect circle\n",
    "plt.axis(\"equal\")\n",
    "plt.show()"
   ]
  },
  {
   "cell_type": "markdown",
   "metadata": {},
   "source": [
    "## Quartiles, outliers and boxplots"
   ]
  },
  {
   "cell_type": "code",
   "execution_count": 7,
   "metadata": {
    "scrolled": true
   },
   "outputs": [
    {
     "name": "stdout",
     "output_type": "stream",
     "text": [
      "The lower quartile of the final tumor volumes is: 37.187743802499995\n",
      "The upper quartile of the final tumor volumes is: 59.930261755000004\n",
      "The interquartile range of the final tumor volumes is: 22.74251795250001\n",
      "The the median of the final tumor volumes is: 45.0\n",
      "Values above 94.04403868375002 and below 3.0739668737499812 could be outliers.\n"
     ]
    }
   ],
   "source": [
    "# Calculate the final tumor volume of each mouse across four of the most promising treatment regimens: \n",
    "# Capomulin, Ramicane, Infubinol, and Ceftamin. \n",
    "# Calculate the IQR and quantitatively determine if there are any potential outliers. \n",
    "\n",
    "df = data.loc[(data['Drug Regimen']=='Capomulin')|(data['Drug Regimen']=='Ramicane')|(data['Drug Regimen']=='Infubinol')|(data['Drug Regimen']=='Ceftamin'),:]\n",
    "new_df = pd.DataFrame(df.groupby('Mouse ID').max()['Timepoint'])\n",
    "final_tumor_volume = pd.merge(new_df, data, on=(\"Mouse ID\",\"Timepoint\"),how=\"left\")\n",
    "\n",
    "quartiles = final_tumor_volume['Tumor Volume (mm3)'].quantile([.25,.5,.75])\n",
    "lowerq = quartiles[0.25]\n",
    "upperq = quartiles[0.75]\n",
    "iqr = upperq-lowerq\n",
    "\n",
    "print(f\"The lower quartile of the final tumor volumes is: {lowerq}\")\n",
    "print(f\"The upper quartile of the final tumor volumes is: {upperq}\")\n",
    "print(f\"The interquartile range of the final tumor volumes is: {iqr}\")\n",
    "print(f\"The the median of the final tumor volumes is: {quartiles[0.5]}\")\n",
    "\n",
    "lower_bound = lowerq - (1.5*iqr)\n",
    "upper_bound = upperq + (1.5*iqr)\n",
    "print(f\"Values above {upper_bound} and below {lower_bound} could be outliers.\")"
   ]
  },
  {
   "cell_type": "code",
   "execution_count": 8,
   "metadata": {
    "scrolled": false
   },
   "outputs": [
    {
     "data": {
      "text/plain": [
       "{'whiskers': [<matplotlib.lines.Line2D at 0x123f74c54c8>,\n",
       "  <matplotlib.lines.Line2D at 0x123f74c5648>,\n",
       "  <matplotlib.lines.Line2D at 0x123f74d1dc8>,\n",
       "  <matplotlib.lines.Line2D at 0x123f74cb788>,\n",
       "  <matplotlib.lines.Line2D at 0x123f74e47c8>,\n",
       "  <matplotlib.lines.Line2D at 0x123f74e4c48>,\n",
       "  <matplotlib.lines.Line2D at 0x123f74f4f48>,\n",
       "  <matplotlib.lines.Line2D at 0x123f74f4a48>],\n",
       " 'caps': [<matplotlib.lines.Line2D at 0x123f74c5dc8>,\n",
       "  <matplotlib.lines.Line2D at 0x123f74cb308>,\n",
       "  <matplotlib.lines.Line2D at 0x123f74d6988>,\n",
       "  <matplotlib.lines.Line2D at 0x123f74d6d88>,\n",
       "  <matplotlib.lines.Line2D at 0x123f74eb4c8>,\n",
       "  <matplotlib.lines.Line2D at 0x123f74eb908>,\n",
       "  <matplotlib.lines.Line2D at 0x123f74f9b48>,\n",
       "  <matplotlib.lines.Line2D at 0x123f74f9608>],\n",
       " 'boxes': [<matplotlib.lines.Line2D at 0x123f74bce88>,\n",
       "  <matplotlib.lines.Line2D at 0x123f74d1cc8>,\n",
       "  <matplotlib.lines.Line2D at 0x123f74d1688>,\n",
       "  <matplotlib.lines.Line2D at 0x123f74eb988>],\n",
       " 'medians': [<matplotlib.lines.Line2D at 0x123f74cb908>,\n",
       "  <matplotlib.lines.Line2D at 0x123f74dec48>,\n",
       "  <matplotlib.lines.Line2D at 0x123f74ebf48>,\n",
       "  <matplotlib.lines.Line2D at 0x123f74f9e88>],\n",
       " 'fliers': [<matplotlib.lines.Line2D at 0x123f74cbf48>,\n",
       "  <matplotlib.lines.Line2D at 0x123f74debc8>,\n",
       "  <matplotlib.lines.Line2D at 0x123f74f47c8>,\n",
       "  <matplotlib.lines.Line2D at 0x123f74ffb48>],\n",
       " 'means': []}"
      ]
     },
     "execution_count": 8,
     "metadata": {},
     "output_type": "execute_result"
    },
    {
     "data": {
      "image/png": "[encoded data removed]",
      "text/plain": [
       "<Figure size 432x288 with 1 Axes>"
      ]
     },
     "metadata": {
      "needs_background": "light"
     },
     "output_type": "display_data"
    }
   ],
   "source": [
    "# Generate a box plot of the final tumor volume of each mouse across four regimens of interest\n",
    "\n",
    "capomulin = final_tumor_volume.loc[(final_tumor_volume['Drug Regimen']=='Capomulin'),:]\n",
    "ramicane =final_tumor_volume.loc[(final_tumor_volume['Drug Regimen']=='Ramicane'),:]\n",
    "infubinol = final_tumor_volume.loc[(final_tumor_volume['Drug Regimen']=='Infubinol'),:]\n",
    "ceftamin = final_tumor_volume.loc[(final_tumor_volume['Drug Regimen']=='Ceftamin'),:]\n",
    "\n",
    "capomulin1=capomulin['Tumor Volume (mm3)']\n",
    "ramicane1=ramicane['Tumor Volume (mm3)']\n",
    "infubinol1=infubinol['Tumor Volume (mm3)']\n",
    "ceftamin1=ceftamin['Tumor Volume (mm3)']\n",
    "\n",
    "data1 = [capomulin1, ramicane1, infubinol1, ceftamin1]\n",
    "\n",
    "outlier = dict(markerfacecolor='r', marker='o')\n",
    "fig1, ax1 = plt.subplots()\n",
    "ax1.set_title('Tumor Volume vs. Drug Regimens')\n",
    "ax1.set_ylabel('Final Tumor Volume (mm3)')\n",
    "ax1.set_xlabel('Drug Regimen')\n",
    "labels = [\"Capomulin\",\"Ramicane\",\"Infubinol\",\"Ceftamin\",]\n",
    "ax1.boxplot(data1, labels=labels,flierprops=outlier)"
   ]
  },
  {
   "cell_type": "markdown",
   "metadata": {},
   "source": [
    "## Line and scatter plots"
   ]
  },
  {
   "cell_type": "code",
   "execution_count": 9,
   "metadata": {},
   "outputs": [
    {
     "data": {
      "text/plain": [
       "Text(0, 0.5, 'Tumor volume')"
      ]
     },
     "execution_count": 9,
     "metadata": {},
     "output_type": "execute_result"
    },
    {
     "data": {
      "image/png": "[encoded data removed]",
      "text/plain": [
       "<Figure size 432x288 with 1 Axes>"
      ]
     },
     "metadata": {
      "needs_background": "light"
     },
     "output_type": "display_data"
    }
   ],
   "source": [
    "# Generate a line plot of time point versus tumor volume for a mouse treated with Capomulin\n",
    "capomulin = data.loc[(data['Drug Regimen']=='Capomulin'),:]\n",
    "capomulin_mouse = capomulin.loc[(data['Mouse ID']=='x401'),:]\n",
    "\n",
    "y_axis = capomulin_mouse['Tumor Volume (mm3)']\n",
    "x_axis = capomulin_mouse['Timepoint']\n",
    "x401 = plt.plot(x_axis, y_axis, marker=\"o\",color=\"blue\", linewidth=.5)\n",
    "plt.title(\"Time versus tumor volume for mouse x401 treated with Capomulin\")\n",
    "plt.xlabel(\"Time\")\n",
    "plt.ylabel(\"Tumor volume\")"
   ]
  },
  {
   "cell_type": "code",
   "execution_count": 10,
   "metadata": {},
   "outputs": [
    {
     "data": {
      "text/plain": [
       "Text(0, 0.5, 'Average tumor volume')"
      ]
     },
     "execution_count": 10,
     "metadata": {},
     "output_type": "execute_result"
    },
    {
     "data": {
      "image/png": "[encoded data removed]",
      "text/plain": [
       "<Figure size 432x288 with 1 Axes>"
      ]
     },
     "metadata": {
      "needs_background": "light"
     },
     "output_type": "display_data"
    }
   ],
   "source": [
    "# Generate a scatter plot of mouse weight versus average tumor volume for the Capomulin regimen\n",
    "x = capomulin.groupby('Mouse ID')['Weight (g)'].mean()\n",
    "y = capomulin.groupby('Mouse ID')['Tumor Volume (mm3)'].mean()\n",
    "\n",
    "plt.scatter(x, y, marker=\"o\", facecolors=\"teal\", edgecolors=\"black\", s=y)\n",
    "plt.title('Mouse weight versus average tumor volume')\n",
    "plt.xlabel('Average weight')\n",
    "plt.ylabel('Average tumor volume')"
   ]
  },
  {
   "cell_type": "code",
   "execution_count": 11,
   "metadata": {},
   "outputs": [
    {
     "data": {
      "image/png": "[encoded data removed]",
      "text/plain": [
       "<Figure size 432x288 with 1 Axes>"
      ]
     },
     "metadata": {
      "needs_background": "light"
     },
     "output_type": "display_data"
    },
    {
     "name": "stdout",
     "output_type": "stream",
     "text": [
      "The r-squared is: 0.8419363424694718\n"
     ]
    }
   ],
   "source": [
    "# Calculate the correlation coefficient and linear regression model for mouse weight and average tumor volume for the Capomulin regimen\n",
    "(slope, intercept, rvalue, pvalue, stderr) = st.linregress(x, y)\n",
    "regress_values = x * slope + intercept\n",
    "line_eq = \"y = \" + str(round(slope,2)) + \"x + \" + str(round(intercept,2))\n",
    "plt.scatter(x, y, marker=\"o\", facecolors=\"coral\", edgecolors=\"coral\", s=y)\n",
    "plt.plot(x,regress_values,\"r-\")\n",
    "plt.annotate(line_eq,(20,40),fontsize=15,color=\"blue\")\n",
    "plt.title('Mouse weight versus average tumor volume')\n",
    "plt.xlabel('Average weight')\n",
    "plt.ylabel('Average tumor volume')\n",
    "plt.show()\n",
    "print(f\"The r-square value is: {rvalue}\")"
   ]
  }
 ],
 "metadata": {
  "anaconda-cloud": {},
  "kernelspec": {
   "display_name": "Python 3",
   "language": "python",
   "name": "python3"
  },
  "language_info": {
   "codemirror_mode": {
    "name": "ipython",
    "version": 3
   },
   "file_extension": ".py",
   "mimetype": "text/x-python",
   "name": "python",
   "nbconvert_exporter": "python",
   "pygments_lexer": "ipython3",
   "version": "3.7.4"
  }
 },
 "nbformat": 4,
 "nbformat_minor": 2
}
